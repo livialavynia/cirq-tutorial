{
  "nbformat": 4,
  "nbformat_minor": 0,
  "metadata": {
    "colab": {
      "name": "cirq.ipynb",
      "provenance": [],
      "collapsed_sections": [],
      "toc_visible": true
    },
    "kernelspec": {
      "name": "python3",
      "display_name": "Python 3"
    },
    "language_info": {
      "name": "python"
    }
  },
  "cells": [
    {
      "cell_type": "markdown",
      "metadata": {
        "id": "VAyMicjARi2L"
      },
      "source": [
        "# CIRQ"
      ]
    },
    {
      "cell_type": "markdown",
      "metadata": {
        "id": "zYy_FOWORy9j"
      },
      "source": [
        "Para formamos circuitos quânticos precisamos de:\n",
        "\n",
        "1.   Qubits (bit quântico);\n",
        "2.   Portas quânticas aplicadas aos qubits, para que assim possamos interferir nas probabilidades;\n",
        "3. E finalmente precisamos aplicar as medições para obter os resultados, de modo que o Qubit passa para a forma binária clássica a partir da medição.\n",
        "\n",
        "\n",
        "\n"
      ]
    },
    {
      "cell_type": "markdown",
      "metadata": {
        "id": "qoVWW4mLTElD"
      },
      "source": [
        "# **Primeiro precisamos importar o Cirq**"
      ]
    },
    {
      "cell_type": "code",
      "metadata": {
        "id": "rP_7bco2RfRv"
      },
      "source": [
        "try:\n",
        "    import cirq\n",
        "except ImportError:\n",
        "    !pip install --quiet cirq --pre \n",
        "\n",
        "#se ocorrer algum erro de compatibilidade, basta rodar outra vez"
      ],
      "execution_count": null,
      "outputs": []
    },
    {
      "cell_type": "markdown",
      "metadata": {
        "id": "jmR-nEynUNkh"
      },
      "source": [
        "#**Qubits e circuitos no Cirq** "
      ]
    },
    {
      "cell_type": "markdown",
      "metadata": {
        "id": "RRsgvmiTmRuO"
      },
      "source": [
        "## Existem 3 tipos principais de Qubits no Cirq: \n",
        "\n",
        "\n",
        "*   **cirq.NamedQubit:** um qubit abstrato que recebe apenas um nome;\n",
        "*   **cirq.LineQubit:** com essa função os qubits vão ser representados por um índice inteiro em uma linha, e é bastante útil para criar vários qubits de uma só vez quando utilizado em conjunto com a função .range(), cirq.LineQubit.range( );\n",
        "* **cirq.GridQubit:** com essa função o qubit é demonstrado em uma grade e é identificado pelas coordenadas em 2D.\n",
        "\n"
      ]
    },
    {
      "cell_type": "markdown",
      "metadata": {
        "id": "Ma_AX0SspQt9"
      },
      "source": [
        "#**- Circuito com NamedQubit()**"
      ]
    },
    {
      "cell_type": "markdown",
      "metadata": {
        "id": "DAneN5kwwwAS"
      },
      "source": [
        "\n",
        "**1.   Criando o qubit:**\n",
        "\n",
        "\n",
        "\n",
        "\n",
        "\n",
        "\n"
      ]
    },
    {
      "cell_type": "code",
      "metadata": {
        "id": "X4zj6CtampM0"
      },
      "source": [
        "qubit = cirq.NamedQubit('myqubit') #com essa função passamos apenas um nome como parâmetro"
      ],
      "execution_count": null,
      "outputs": []
    },
    {
      "cell_type": "code",
      "metadata": {
        "id": "txFOZ_zeUMtD",
        "colab": {
          "base_uri": "https://localhost:8080/"
        },
        "outputId": "d8adc1ba-d2f1-4435-c2d6-aea0f3aec324"
      },
      "source": [
        "print(qubit) \n",
        "# se formos imprimir nosso qubit veremos que apenas aparecerá o nome que demos a ele, isso porque\n",
        "# não aplicamos nenhuma porta quântica, nem fizemos medições, logo, ele é apenas uma representação abstrata\n"
      ],
      "execution_count": null,
      "outputs": [
        {
          "output_type": "stream",
          "name": "stdout",
          "text": [
            "myqubit\n"
          ]
        }
      ]
    },
    {
      "cell_type": "markdown",
      "metadata": {
        "id": "PrClhMXow80b"
      },
      "source": [
        "**2. Criando o circuito:**\n",
        "\n"
      ]
    },
    {
      "cell_type": "code",
      "metadata": {
        "id": "nedOkhQ1xk-R"
      },
      "source": [
        "circuito = cirq.Circuit()"
      ],
      "execution_count": null,
      "outputs": []
    },
    {
      "cell_type": "markdown",
      "metadata": {
        "id": "DA0ueKFJx1qY"
      },
      "source": [
        "**3. Aplicando portas:**\n",
        "\n"
      ]
    },
    {
      "cell_type": "code",
      "metadata": {
        "colab": {
          "base_uri": "https://localhost:8080/"
        },
        "id": "dk7nORafx8bM",
        "outputId": "c054a389-ee7b-4e16-b265-ce607c9f30c8"
      },
      "source": [
        "#APLICANDO A PORTA HADAMARD NO NOSSO QUBIT NOMEADO DE \"myqubit\":\n",
        "circuito.append(cirq.H(qubit)) #sempre que formos aplicar uma porta precisamos informar em qual qubit ela deve ser aplicada\n",
        "print(circuito)"
      ],
      "execution_count": null,
      "outputs": [
        {
          "output_type": "stream",
          "name": "stdout",
          "text": [
            "myqubit: ───H───\n"
          ]
        }
      ]
    },
    {
      "cell_type": "code",
      "metadata": {
        "colab": {
          "base_uri": "https://localhost:8080/"
        },
        "id": "OjLKcBc7y8ce",
        "outputId": "7ec7ef7f-3f97-4600-b046-7d72e04c1d33"
      },
      "source": [
        "# APLICANDO A PORTA Y:\n",
        "circuito.append(cirq.Y(qubit))\n",
        "print(circuito)"
      ],
      "execution_count": null,
      "outputs": [
        {
          "output_type": "stream",
          "name": "stdout",
          "text": [
            "myqubit: ───H───Y───\n"
          ]
        }
      ]
    },
    {
      "cell_type": "markdown",
      "metadata": {
        "id": "kAXGWVs9zqrm"
      },
      "source": [
        "**4. Aplicando a medição no qubit:**\n",
        "\n"
      ]
    },
    {
      "cell_type": "code",
      "metadata": {
        "colab": {
          "base_uri": "https://localhost:8080/"
        },
        "id": "yek_enhn0Jvd",
        "outputId": "7421f99c-c91d-4295-c12e-e27868711db3"
      },
      "source": [
        "circuito.append(cirq.measure(qubit))\n",
        "print(circuito)"
      ],
      "execution_count": null,
      "outputs": [
        {
          "output_type": "stream",
          "name": "stdout",
          "text": [
            "myqubit: ───H───Y───M───\n"
          ]
        }
      ]
    },
    {
      "cell_type": "markdown",
      "metadata": {
        "id": "QpaCvixq0eZ1"
      },
      "source": [
        "**5. Simulando e extraindo os resultados:**\n",
        "\n"
      ]
    },
    {
      "cell_type": "code",
      "metadata": {
        "colab": {
          "base_uri": "https://localhost:8080/"
        },
        "id": "WPACM5Mm0nQf",
        "outputId": "330743e7-1e19-4c9b-b000-2028ee09754f"
      },
      "source": [
        "resultado = cirq.Simulator().simulate(circuito)\n",
        "print(circuito)\n",
        "print(resultado)\n",
        "#Nem sempre as medições resultarão em um mesmo resultado, verifique rodando várias vezes"
      ],
      "execution_count": null,
      "outputs": [
        {
          "output_type": "stream",
          "name": "stdout",
          "text": [
            "myqubit: ───H───Y───M───\n",
            "measurements: myqubit=0\n",
            "output vector: -1j|0⟩\n"
          ]
        }
      ]
    },
    {
      "cell_type": "markdown",
      "metadata": {
        "id": "vx2W927otAR4"
      },
      "source": [
        "#**- Circuito com LineQubit()**"
      ]
    },
    {
      "cell_type": "markdown",
      "metadata": {
        "id": "2SvKiU0R1TAV"
      },
      "source": [
        "\n",
        "**1.   Criando os qubits:**\n",
        "\n",
        "\n",
        "\n",
        "\n",
        "\n",
        "\n"
      ]
    },
    {
      "cell_type": "code",
      "metadata": {
        "id": "a5bnaLcjtF1Y"
      },
      "source": [
        "#Utilizando a função range em conjunto com LineQubit, podemos gerar vários qubits\n",
        "(q0,q1,q2,q3) = cirq.LineQubit.range(4)"
      ],
      "execution_count": null,
      "outputs": []
    },
    {
      "cell_type": "code",
      "metadata": {
        "colab": {
          "base_uri": "https://localhost:8080/"
        },
        "id": "sZjjBPl6tqsz",
        "outputId": "3828d816-ac44-4ef9-af1c-31bbdcdcf0e7"
      },
      "source": [
        "# Imprimindo os qubits que acabamos de criar, podemos visualizar todos representados por índices\n",
        "print(q0,q1,q2,q3)"
      ],
      "execution_count": null,
      "outputs": [
        {
          "output_type": "stream",
          "name": "stdout",
          "text": [
            "0 1 2 3\n"
          ]
        }
      ]
    },
    {
      "cell_type": "markdown",
      "metadata": {
        "id": "SfropsXJ1jXA"
      },
      "source": [
        "**2. Criando o circuito:**\n",
        "\n"
      ]
    },
    {
      "cell_type": "code",
      "metadata": {
        "id": "SINjr2yc1iMo"
      },
      "source": [
        "circuito2 = cirq.Circuit()"
      ],
      "execution_count": null,
      "outputs": []
    },
    {
      "cell_type": "markdown",
      "metadata": {
        "id": "KmYCSbHC1rsU"
      },
      "source": [
        "**2. Aplicando portas:**\n",
        "\n"
      ]
    },
    {
      "cell_type": "code",
      "metadata": {
        "colab": {
          "base_uri": "https://localhost:8080/"
        },
        "id": "isV-YXLz2Ho2",
        "outputId": "5d57eef8-f919-459a-8b78-88eccfbf811d"
      },
      "source": [
        "#APLICANDO PORTA HADAMARD NO QUBIT 0, NOMEADO DE 'q0'\n",
        "circuito2.append(cirq.H(q0)) #lembrando que sempre precisamos informar no parênteses em qual qubit queremos aplicar a porta\n",
        "\n",
        "print(circuito2)"
      ],
      "execution_count": null,
      "outputs": [
        {
          "output_type": "stream",
          "name": "stdout",
          "text": [
            "0: ───H───\n"
          ]
        }
      ]
    },
    {
      "cell_type": "code",
      "metadata": {
        "colab": {
          "base_uri": "https://localhost:8080/"
        },
        "id": "Lher74GP3x4P",
        "outputId": "fa0d329f-2594-4289-8691-51c9b8a0fd76"
      },
      "source": [
        "#APLICANDO A PORTA CNOT NOS QUBITS 0 E 1, NOMEADOS DE 'q0' E 'q1'\n",
        "circuito2.append(cirq.CNOT(q0,q1))\n",
        "print(circuito2)"
      ],
      "execution_count": null,
      "outputs": [
        {
          "output_type": "stream",
          "name": "stdout",
          "text": [
            "0: ───H───@───\n",
            "          │\n",
            "1: ───────X───\n"
          ]
        }
      ]
    },
    {
      "cell_type": "code",
      "metadata": {
        "colab": {
          "base_uri": "https://localhost:8080/"
        },
        "id": "sG5L-lWG4Pq5",
        "outputId": "bbf47cfd-712e-43ad-e150-76533bad4698"
      },
      "source": [
        "#APLICANDO A PORTA Y NO QUBIT 2, NOMEADO DE 'q2'\n",
        "circuito2.append(cirq.Y(q2))\n",
        "print(circuito2)"
      ],
      "execution_count": null,
      "outputs": [
        {
          "output_type": "stream",
          "name": "stdout",
          "text": [
            "0: ───H───@───\n",
            "          │\n",
            "1: ───────X───\n",
            "\n",
            "2: ───Y───────\n"
          ]
        }
      ]
    },
    {
      "cell_type": "code",
      "metadata": {
        "colab": {
          "base_uri": "https://localhost:8080/"
        },
        "id": "OFa-oVbH4nQu",
        "outputId": "6650318a-5a72-41c8-aef0-70d2d59e68a2"
      },
      "source": [
        "#APLICANDO A PORTA Z NO QUBIT 3, NOMEADO DE 'q3'\n",
        "circuito2.append(cirq.Z(q3))\n",
        "print(circuito2)"
      ],
      "execution_count": null,
      "outputs": [
        {
          "output_type": "stream",
          "name": "stdout",
          "text": [
            "0: ───H───@───\n",
            "          │\n",
            "1: ───────X───\n",
            "\n",
            "2: ───Y───────\n",
            "\n",
            "3: ───Z───────\n"
          ]
        }
      ]
    },
    {
      "cell_type": "markdown",
      "metadata": {
        "id": "ySc6qggmEgGl"
      },
      "source": [
        "**4. Aplicando a medições nos qubits:**\n",
        "\n"
      ]
    },
    {
      "cell_type": "code",
      "metadata": {
        "colab": {
          "base_uri": "https://localhost:8080/"
        },
        "id": "0y2rufu-Flfe",
        "outputId": "9c60e343-9476-4765-d68b-a86132b77fec"
      },
      "source": [
        "circuito2.append([cirq.measure(q0),cirq.measure(q1),cirq.measure(q2),cirq.measure(q3)])\n",
        "print(circuito2)"
      ],
      "execution_count": null,
      "outputs": [
        {
          "output_type": "stream",
          "name": "stdout",
          "text": [
            "0: ───H───@───M───\n",
            "          │\n",
            "1: ───────X───M───\n",
            "\n",
            "2: ───Y───M───────\n",
            "\n",
            "3: ───Z───M───────\n"
          ]
        }
      ]
    },
    {
      "cell_type": "markdown",
      "metadata": {
        "id": "AbqC-GJHICgF"
      },
      "source": [
        "**5. Simulando e extraindo os resultados:**\n",
        "\n"
      ]
    },
    {
      "cell_type": "code",
      "metadata": {
        "colab": {
          "base_uri": "https://localhost:8080/"
        },
        "id": "OX3Y50MxEkMK",
        "outputId": "e1d2381a-c121-49c6-ff3f-33db0a5f77ae"
      },
      "source": [
        "resultado2 = cirq.Simulator().simulate(circuito2)\n",
        "print(circuito2)\n",
        "print(resultado2)\n",
        "\n",
        "# Obs: verifique que em 'measurements' podemos verificar a medição de cada qubit que passou para o estado\n",
        "# binário clássico após a medição\n",
        "\n",
        "#Obs: nem todas as medições resultarão nos mesmos resultados, verifique rodando a simulação várias vezes"
      ],
      "execution_count": null,
      "outputs": [
        {
          "output_type": "stream",
          "name": "stdout",
          "text": [
            "0: ───H───@───M───\n",
            "          │\n",
            "1: ───────X───M───\n",
            "\n",
            "2: ───Y───M───────\n",
            "\n",
            "3: ───Z───M───────\n",
            "measurements: 0=1 1=1 2=1 3=0\n",
            "output vector: 1j|1110⟩\n"
          ]
        }
      ]
    },
    {
      "cell_type": "markdown",
      "metadata": {
        "id": "pwJ17cWnIIG8"
      },
      "source": [
        "**↓ É possivel aplicar varias portas quânticas de uma só vez, de uma maneira mais prática, observe:**\n",
        "\n"
      ]
    },
    {
      "cell_type": "code",
      "metadata": {
        "id": "LbLyyI1eIgAq"
      },
      "source": [
        "#criando os qubits:\n",
        "(Q0,Q1,Q2) = cirq.LineQubit.range(3)\n",
        "#criando o circuito:\n",
        "circuito3 = cirq.Circuit()\n"
      ],
      "execution_count": null,
      "outputs": []
    },
    {
      "cell_type": "markdown",
      "metadata": {
        "id": "QyQ4tzoNJGyN"
      },
      "source": [
        "\n",
        "\n",
        "> Aplicando as portas quânticas de uma só vez:\n",
        "\n"
      ]
    },
    {
      "cell_type": "code",
      "metadata": {
        "colab": {
          "base_uri": "https://localhost:8080/"
        },
        "id": "G1i-phQ-JE4j",
        "outputId": "1f2e5c0c-74cc-4a25-905e-07f82d5b8c82"
      },
      "source": [
        "circuito3.append([cirq.H(Q0),cirq.Y(Q1),cirq.CNOT(Q0,Q1),cirq.Z(Q2)])\n",
        "print(circuito3)"
      ],
      "execution_count": null,
      "outputs": [
        {
          "output_type": "stream",
          "name": "stdout",
          "text": [
            "0: ───H───@───\n",
            "          │\n",
            "1: ───Y───X───\n",
            "\n",
            "2: ───Z───────\n"
          ]
        }
      ]
    },
    {
      "cell_type": "markdown",
      "metadata": {
        "id": "m6ZZSjQeJ2hP"
      },
      "source": [
        "\n",
        "\n",
        "> Aplicando as medições e fazendo a simulação:\n",
        "\n"
      ]
    },
    {
      "cell_type": "code",
      "metadata": {
        "colab": {
          "base_uri": "https://localhost:8080/"
        },
        "id": "d0DY1vrHJ3QI",
        "outputId": "d6ea550b-8bfc-4d1b-fbab-9116eb935f9a"
      },
      "source": [
        "# Aplicando medições:\n",
        "circuito3.append([cirq.measure(Q0),cirq.measure(Q1),cirq.measure(Q2)])\n",
        "print(circuito3)"
      ],
      "execution_count": null,
      "outputs": [
        {
          "output_type": "stream",
          "name": "stdout",
          "text": [
            "0: ───H───@───M───\n",
            "          │\n",
            "1: ───Y───X───M───\n",
            "\n",
            "2: ───Z───M───────\n"
          ]
        }
      ]
    },
    {
      "cell_type": "code",
      "metadata": {
        "colab": {
          "base_uri": "https://localhost:8080/"
        },
        "id": "TsIblQNNLAwo",
        "outputId": "d77b8f50-5f35-4362-84e0-d8296bd07db3"
      },
      "source": [
        "resultado3 = cirq.Simulator().simulate(circuito3)\n",
        "\n",
        "print(circuito3)\n",
        "print(resultado3)"
      ],
      "execution_count": null,
      "outputs": [
        {
          "output_type": "stream",
          "name": "stdout",
          "text": [
            "0: ───H───@───M───\n",
            "          │\n",
            "1: ───Y───X───M───\n",
            "\n",
            "2: ───Z───M───────\n",
            "measurements: 0=0 1=1 2=0\n",
            "output vector: -1|010⟩\n"
          ]
        }
      ]
    },
    {
      "cell_type": "markdown",
      "metadata": {
        "id": "0_Z2hGsWMe5j"
      },
      "source": [
        "# Links importantes:"
      ]
    },
    {
      "cell_type": "markdown",
      "metadata": {
        "id": "MpbY_oDxNQSP"
      },
      "source": [
        "\n",
        "\n",
        "* [Tutorial que foi referência para elaboração desse notebook:](https://quantumai.google/cirq/qubits)\n",
        "\n",
        "* [Material interessante sobre portas](https://quantumai.google/cirq/gates)\n",
        "* [Mais informações do cirq para iniciantes](https://quantumai.google/cirq/tutorials/basics)"
      ]
    }
  ]
}